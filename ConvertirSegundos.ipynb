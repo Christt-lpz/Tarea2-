{
 "cells": [
  {
   "cell_type": "markdown",
   "metadata": {},
   "source": [
    "Convertir a Segundos\n",
    "Jenniffer Rojas\n",
    "Carnet 17003167\n",
    "Tarea 2"
   ]
  },
  {
   "cell_type": "code",
   "execution_count": 48,
   "metadata": {},
   "outputs": [
    {
     "name": "stdout",
     "output_type": "stream",
     "text": [
      "Ingrese la cantidad de segundos a convertir \n",
      "15875\n",
      "La hora es  4 horas 24 minutos 35 segundos\n"
     ]
    }
   ],
   "source": [
    "s= int(input(\"Ingrese la cantidad de segundos a convertir \\n\"))\n",
    "d= s // (24 * 60 * 60)\n",
    "s = s %(24 * 60 * 60)\n",
    "h = s // (60*60)\n",
    "s = s % (60*60)\n",
    "m = s // 60\n",
    "s = s % 60\n",
    "print (\"La hora es \", h ,\"horas\",m,\"minutos\" ,s,\"segundos\")"
   ]
  },
  {
   "cell_type": "markdown",
   "metadata": {},
   "source": [
    "\n",
    "Patrones\n"
   ]
  },
  {
   "cell_type": "code",
   "execution_count": 66,
   "metadata": {},
   "outputs": [
    {
     "name": "stdout",
     "output_type": "stream",
     "text": [
      "Ingresa un numero del 1 al 20\n",
      " 5\n",
      "Ingresa un caracter\n",
      " *\n",
      "\n",
      "*\n",
      "**\n",
      "***\n",
      "****\n",
      "*****\n",
      "     \n",
      "    *\n",
      "   **\n",
      "  ***\n",
      " ****\n",
      "*****\n",
      "     \n",
      "*\n",
      "   **\n",
      "***\n",
      " ****\n",
      "*****\n"
     ]
    }
   ],
   "source": [
    "\n",
    "while True:\n",
    "    try:\n",
    "        Numero = int(input(\"Ingresa un numero del 1 al 20\\n \"))\n",
    "    except ValueError:\n",
    "        print(\"Debes escribir un número.\")\n",
    "        continue\n",
    "\n",
    "    if Numero < 0 or Numero >20:\n",
    "        print(\"Debes escribir un numero entre 1 y 20.\")\n",
    "        continue\n",
    "    else:\n",
    "        break\n",
    "Caracter = input(\"Ingresa un caracter\\n \")\n",
    "\n",
    "for i in range(Numero + 1):\n",
    "    print(Caracter * i)\n",
    "    \n",
    "for i in range(Numero + 1):\n",
    "    espacios =Numero - i    \n",
    "    print(' ' * espacios+Caracter * i)\n",
    "    \n",
    "for i in range(Numero + 1):\n",
    "    espacios =Numero - i   \n",
    "    if(i % 2 == 0):\n",
    "        print(' ' * espacios+Caracter * i)\n",
    "    else:\n",
    "        print(Caracter * i)"
   ]
  },
  {
   "cell_type": "markdown",
   "metadata": {},
   "source": [
    "Calculo de Fecha de Nacimiento"
   ]
  },
  {
   "cell_type": "code",
   "execution_count": 102,
   "metadata": {},
   "outputs": [
    {
     "name": "stdout",
     "output_type": "stream",
     "text": [
      "Ingese su dia de nacimiento 15\n",
      "Ingese su mes de nacimiento 01\n",
      "Ingese su año de nacimiento 2014\n",
      "7.0 Años 1.0 Meses 6 Dias\n"
     ]
    }
   ],
   "source": [
    "from datetime import datetime, date, time, timedelta\n",
    "import calendar\n",
    "\n",
    "while True:\n",
    "    try:\n",
    "        Dia = int(input(\"Ingese su dia de nacimiento \"))\n",
    "    except ValueError:\n",
    "        print(\"Debes escribir un número.\")\n",
    "        continue\n",
    "\n",
    "    if Dia < 0 or Dia >31:\n",
    "        print(\"Debes escribir un numero entre 1 y 31.\")\n",
    "        continue\n",
    "    else:\n",
    "        break\n",
    "while True:\n",
    "    try:\n",
    "        Mes = int(input(\"Ingese su mes de nacimiento \"))\n",
    "    except ValueError:\n",
    "        print(\"Debes escribir un número.\")\n",
    "        continue\n",
    "\n",
    "    if Mes < 0 or Mes >12:\n",
    "        print(\"Debes escribir un numero entre 1 y 12.\")\n",
    "        continue\n",
    "    else:\n",
    "        break\n",
    "while True:\n",
    "    try:\n",
    "        Anio = int(input(\"Ingese su año de nacimiento \"))\n",
    "    except ValueError:\n",
    "        print(\"Debes escribir un número.\")\n",
    "        continue\n",
    "\n",
    "    if Anio < 0 or Anio >9999:\n",
    "        print(\"Debes escribir un año valido\")\n",
    "        continue\n",
    "    else:\n",
    "        break\n",
    "FecActual = datetime.now()\n",
    "AnioActual = FecActual.year\n",
    "MesActual  = FecActual.month\n",
    "DiaActual = FecActual.day\n",
    "\n",
    "hoy= date(AnioActual, MesActual,DiaActual)  \n",
    "FecNacimiento = date(Anio, Mes, Dia)\n",
    "\n",
    "Dias = hoy - FecNacimiento\n",
    "Diascalculados = int(Dias.days)\n",
    "\n",
    "AnioSalida = Diascalculados // 365.2425\n",
    "Diascalculados = Diascalculados % 365.2425 \n",
    "MesSalida = Diascalculados// 30.416666666666668 \n",
    "Diascalculados = int(Diascalculados% 30.416666666666668 )\n",
    "print ( AnioSalida, \"Años\", MesSalida,\"Meses\",Diascalculados,\"Dias\")"
   ]
  },
  {
   "cell_type": "markdown",
   "metadata": {},
   "source": [
    "PARTE 2\n",
    "Numeros a Letras\n"
   ]
  },
  {
   "cell_type": "code",
   "execution_count": 119,
   "metadata": {},
   "outputs": [
    {
     "name": "stdout",
     "output_type": "stream",
     "text": [
      "1020304050\n"
     ]
    }
   ],
   "source": [
    "Lista1=[10,20,30,40,50]\n",
    "cadena= \"\".join(map(str,Lista1))\n",
    "print(cadena)"
   ]
  },
  {
   "cell_type": "markdown",
   "metadata": {},
   "source": [
    "    Eliminar valores vacios\n",
    "    "
   ]
  },
  {
   "cell_type": "code",
   "execution_count": 1,
   "metadata": {},
   "outputs": [
    {
     "name": "stdout",
     "output_type": "stream",
     "text": [
      "\n",
      "\n",
      "10ade4050d\n"
     ]
    }
   ],
   "source": [
    "Lista1=['10','a','','de','40','50','','','d']\n",
    "for dato in Lista1:\n",
    "    if (dato == ''):\n",
    "        Lista1.remove(dato)\n",
    "        print(dato)\n",
    "cadena= \"\".join(map(str,Lista1))\n",
    "print(cadena)"
   ]
  },
  {
   "cell_type": "markdown",
   "metadata": {},
   "source": [
    "Promedio\n"
   ]
  },
  {
   "cell_type": "code",
   "execution_count": 2,
   "metadata": {},
   "outputs": [
    {
     "name": "stdout",
     "output_type": "stream",
     "text": [
      "52\n",
      "40.666666666666664\n",
      "30\n"
     ]
    }
   ],
   "source": [
    "import statistics as stats\n",
    "Promedio=[\n",
    "    [15,25,116],\n",
    "    [16,80,26],\n",
    "    [10,10,70]\n",
    "]\n",
    "\n",
    "print(stats.mean(Promedio[0]))\n",
    "print(stats.mean(Promedio[1]))\n",
    "print(stats.mean(Promedio[-1]))"
   ]
  },
  {
   "cell_type": "code",
   "execution_count": null,
   "metadata": {},
   "outputs": [],
   "source": []
  }
 ],
 "metadata": {
  "kernelspec": {
   "display_name": "Python 3",
   "language": "python",
   "name": "python3"
  },
  "language_info": {
   "codemirror_mode": {
    "name": "ipython",
    "version": 3
   },
   "file_extension": ".py",
   "mimetype": "text/x-python",
   "name": "python",
   "nbconvert_exporter": "python",
   "pygments_lexer": "ipython3",
   "version": "3.8.5"
  }
 },
 "nbformat": 4,
 "nbformat_minor": 4
}
