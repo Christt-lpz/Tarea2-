{
 "cells": [
  {
   "cell_type": "markdown",
   "metadata": {},
   "source": [
    "Tarea  2"
   ]
  },
  {
   "cell_type": "markdown",
   "metadata": {},
   "source": [
    "## Parte 1  Ejercicio  1##"
   ]
  },
  {
   "cell_type": "code",
   "execution_count": null,
   "metadata": {},
   "outputs": [],
   "source": [
    "#Convertir en segundos \n",
    "s= int(input(\"Ingrese la cantidad de segundos a convertir \\n\"))\n",
    "d= s // (24 * 60 * 60)\n",
    "s = s %(24 * 60 * 60)\n",
    "h = s // (60*60)\n",
    "s = s % (60*60)\n",
    "m = s // 60\n",
    "s = s % 60\n",
    "print (\"La hora es \", h ,\"horas\",m,\"minutos\" ,s,\"segundos\")\n",
    "\n"
   ]
  },
  {
   "cell_type": "markdown",
   "metadata": {},
   "source": [
    "## Parte  1 Ejercicion  2 ##"
   ]
  },
  {
   "cell_type": "code",
   "execution_count": null,
   "metadata": {},
   "outputs": [],
   "source": [
    "#Patrones\n",
    "while True:\n",
    "    try:\n",
    "        Numero = int(input(\"Ingresa un numero del 1 al 20\\n \"))\n",
    "    except ValueError:\n",
    "        print(\"Debes escribir un número.\")\n",
    "        continue\n",
    "\n",
    "    if Numero < 0 or Numero >20:\n",
    "        print(\"Debes escribir un numero entre 1 y 20.\")\n",
    "        continue\n",
    "    else:\n",
    "        break\n",
    "Caracter = input(\"Ingresa un caracter\\n \")\n",
    "\n",
    "for i in range(Numero + 1):\n",
    "    print(Caracter * i)\n",
    "    \n",
    "for i in range(Numero + 1):\n",
    "    espacios =Numero - i    \n",
    "    print(' ' * espacios+Caracter * i)\n",
    "    \n",
    "for i in range(Numero + 1):\n",
    "    espacios =Numero - i   \n",
    "    if(i % 2 == 0):\n",
    "        print(' ' * espacios+Caracter * i)\n",
    "    else:\n",
    "        print(Caracter * i)"
   ]
  },
  {
   "cell_type": "markdown",
   "metadata": {},
   "source": [
    "## Parte 1 Ejercicio  3##"
   ]
  },
  {
   "cell_type": "code",
   "execution_count": null,
   "metadata": {},
   "outputs": [],
   "source": [
    "#Calculo de Fecha de Nacimiento\n",
    "from datetime import datetime, date, time, timedelta\n",
    "import calendar\n",
    "\n",
    "while True:\n",
    "    try:\n",
    "        Dia = int(input(\"Ingese su dia de nacimiento \"))\n",
    "    except ValueError:\n",
    "        print(\"Debes escribir un número.\")\n",
    "        continue\n",
    "\n",
    "    if Dia < 0 or Dia >31:\n",
    "        print(\"Debes escribir un numero entre 1 y 31.\")\n",
    "        continue\n",
    "    else:\n",
    "        break\n",
    "while True:\n",
    "    try:\n",
    "        Mes = int(input(\"Ingese su mes de nacimiento \"))\n",
    "    except ValueError:\n",
    "        print(\"Debes escribir un número.\")\n",
    "        continue\n",
    "\n",
    "    if Mes < 0 or Mes >12:\n",
    "        print(\"Debes escribir un numero entre 1 y 12.\")\n",
    "        continue\n",
    "    else:\n",
    "        break\n",
    "while True:\n",
    "    try:\n",
    "        Anio = int(input(\"Ingese su año de nacimiento \"))\n",
    "    except ValueError:\n",
    "        print(\"Debes escribir un número.\")\n",
    "        continue\n",
    "\n",
    "    if Anio < 0 or Anio >9999:\n",
    "        print(\"Debes escribir un año valido\")\n",
    "        continue\n",
    "    else:\n",
    "        break\n",
    "FecActual = datetime.now()\n",
    "AnioActual = FecActual.year\n",
    "MesActual  = FecActual.month\n",
    "DiaActual = FecActual.day\n",
    "\n",
    "hoy= date(AnioActual, MesActual,DiaActual)  \n",
    "FecNacimiento = date(Anio, Mes, Dia)\n",
    "\n",
    "Dias = hoy - FecNacimiento\n",
    "Diascalculados = int(Dias.days)\n",
    "\n",
    "AnioSalida = Diascalculados // 365.2425\n",
    "Diascalculados = Diascalculados % 365.2425 \n",
    "MesSalida = Diascalculados// 30.416666666666668 \n",
    "Diascalculados = int(Diascalculados% 30.416666666666668 )\n",
    "print ( AnioSalida, \"Años\", MesSalida,\"Meses\",Diascalculados,\"Dias\")\n"
   ]
  },
  {
   "cell_type": "markdown",
   "metadata": {},
   "source": [
    "## Parte 2  Ejercicio 1 "
   ]
  },
  {
   "cell_type": "code",
   "execution_count": null,
   "metadata": {},
   "outputs": [],
   "source": [
    "#PARTE 2 Numeros a Letras\n",
    "Lista1=[10,20,30,40,50]\n",
    "cadena= \"\".join(map(str,Lista1))\n",
    "print(cadena)"
   ]
  },
  {
   "cell_type": "markdown",
   "metadata": {},
   "source": [
    "## Parte 2  Ejercicio 2 ##"
   ]
  },
  {
   "cell_type": "code",
   "execution_count": 9,
   "metadata": {},
   "outputs": [
    {
     "name": "stdout",
     "output_type": "stream",
     "text": [
      "\n"
     ]
    }
   ],
   "source": [
    "#Eliminar valores vacios\n",
    "Lista1=['10','a','','de','40','50','','','d']\n",
    "for dato in Lista1:\n",
    "    if (dato == ''):\n",
    "        Lista1.remove(dato)\n",
    "        print(dato)\n",
    "cadena= \"\".join(map(str,Lista1))\n",
    "print(cadena)"
   ]
  },
  {
   "cell_type": "code",
   "execution_count": null,
   "metadata": {},
   "outputs": [],
   "source": [
    "## Parte 2  Ejercicio 3 ##"
   ]
  },
  {
   "cell_type": "code",
   "execution_count": null,
   "metadata": {},
   "outputs": [],
   "source": [
    "\n",
    "#Promedio\n",
    "import statistics as stats\n",
    "Promedio=[\n",
    "    [15,25,116],\n",
    "    [16,80,26],\n",
    "    [10,10,70]\n",
    "]\n",
    "\n",
    "print(stats.mean(Promedio[0]))\n",
    "print(stats.mean(Promedio[1]))\n",
    "print(stats.mean(Promedio[-1]))"
   ]
  }
 ],
 "metadata": {
  "kernelspec": {
   "display_name": "Python 3",
   "language": "python",
   "name": "python3"
  },
  "language_info": {
   "codemirror_mode": {
    "name": "ipython",
    "version": 3
   },
   "file_extension": ".py",
   "mimetype": "text/x-python",
   "name": "python",
   "nbconvert_exporter": "python",
   "pygments_lexer": "ipython3",
   "version": "3.8.5"
  }
 },
 "nbformat": 4,
 "nbformat_minor": 4
}
